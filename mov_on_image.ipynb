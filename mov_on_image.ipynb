{
 "cells": [
  {
   "cell_type": "code",
   "execution_count": 5,
   "metadata": {},
   "outputs": [
    {
     "name": "stderr",
     "output_type": "stream",
     "text": [
      "                                                                \n",
      "                                                                \n",
      "t:   0%|          | 1/252 [15:03<63:00:38, 903.74s/it, now=None]"
     ]
    },
    {
     "name": "stdout",
     "output_type": "stream",
     "text": [
      "Moviepy - Building video composite_video.mp4.\n",
      "MoviePy - Writing audio in composite_videoTEMP_MPY_wvf_snd.mp3\n"
     ]
    },
    {
     "name": "stderr",
     "output_type": "stream",
     "text": [
      "\n",
      "\u001b[A\n",
      "                                                                \n",
      "                                                                \n",
      "t:   0%|          | 1/252 [15:03<63:00:54, 903.80s/it, now=None]"
     ]
    },
    {
     "name": "stdout",
     "output_type": "stream",
     "text": [
      "MoviePy - Done.\n",
      "Moviepy - Writing video composite_video.mp4\n",
      "\n"
     ]
    },
    {
     "name": "stderr",
     "output_type": "stream",
     "text": [
      "\n",
      "\u001b[A\n",
      "\u001b[A\n",
      "\u001b[A\n",
      "\u001b[A\n",
      "\u001b[A\n",
      "\u001b[A\n",
      "\u001b[A\n",
      "\u001b[A\n",
      "\u001b[A\n",
      "\u001b[A\n",
      "\u001b[A\n",
      "\u001b[A\n",
      "\u001b[A\n",
      "\u001b[A\n",
      "\u001b[A\n",
      "\u001b[A\n",
      "\u001b[A\n",
      "                                                                \n",
      "                                                                \n",
      "t:   0%|          | 1/252 [15:05<63:08:48, 905.69s/it, now=None]"
     ]
    },
    {
     "name": "stdout",
     "output_type": "stream",
     "text": [
      "Moviepy - Done !\n",
      "Moviepy - video ready composite_video.mp4\n"
     ]
    }
   ],
   "source": [
    "from moviepy.editor import VideoFileClip, ImageClip, CompositeVideoClip\n",
    "\n",
    "# 读取视频\n",
    "video_path = '/home/advance/dev/insightface/1718613646588.mp4'\n",
    "video_clip = VideoFileClip(video_path)\n",
    "\n",
    "# 获取视频的尺寸\n",
    "# video_width, video_height = video_clip.size\n",
    "new_video_width = 596\n",
    "new_video_height = 596\n",
    "video_clip = video_clip.resize((new_video_width, new_video_height))\n",
    "\n",
    "# 读取图片\n",
    "image_path = '/home/advance/dev/insightface/真人_19.jpg'\n",
    "image_clip = ImageClip(image_path).set_duration(video_clip.duration)\n",
    "\n",
    "# 设置视频在图片上的位置\n",
    "# video_position = (\"498\", \"427\")\n",
    "desired_video_center_x = 498\n",
    "desired_video_center_y = 427\n",
    "\n",
    "# 计算视频左上角在图片上的位置\n",
    "video_position_x = desired_video_center_x - new_video_width / 2\n",
    "video_position_y = desired_video_center_y - new_video_height / 2\n",
    "\n",
    "# 设置视频在图片上的位置\n",
    "video_position = (video_position_x, video_position_y)\n",
    "\n",
    "# 合成视频\n",
    "final_clip = CompositeVideoClip([image_clip, video_clip.set_position(video_position)])\n",
    "\n",
    "# 保存合成后的视频\n",
    "final_clip.write_videofile(\"composite_video.mp4\", fps=video_clip.fps)\n"
   ]
  }
 ],
 "metadata": {
  "kernelspec": {
   "display_name": "Python 3",
   "language": "python",
   "name": "python3"
  },
  "language_info": {
   "codemirror_mode": {
    "name": "ipython",
    "version": 3
   },
   "file_extension": ".py",
   "mimetype": "text/x-python",
   "name": "python",
   "nbconvert_exporter": "python",
   "pygments_lexer": "ipython3",
   "version": "3.8.0"
  }
 },
 "nbformat": 4,
 "nbformat_minor": 2
}
